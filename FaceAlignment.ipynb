{
 "cells": [
  {
   "cell_type": "code",
   "execution_count": 76,
   "metadata": {},
   "outputs": [],
   "source": [
    "import matplotlib.pyplot as plt\n",
    "import cv2\n",
    "from mtcnn import MTCNN\n",
    "import numpy as np\n",
    "import math"
   ]
  },
  {
   "cell_type": "code",
   "execution_count": 77,
   "metadata": {},
   "outputs": [],
   "source": [
    "detector = MTCNN()"
   ]
  },
  {
   "cell_type": "code",
   "execution_count": 78,
   "metadata": {},
   "outputs": [],
   "source": [
    "Image_path = 'C:\\\\Users\\\\PriyankaPrabhu\\\\FaceDetection\\\\ImposterRawTestFinal\\\\face271.jpg'"
   ]
  },
  {
   "cell_type": "code",
   "execution_count": 79,
   "metadata": {},
   "outputs": [
    {
     "name": "stdout",
     "output_type": "stream",
     "text": [
      "[[[181 198 211]\n",
      "  [128 145 158]\n",
      "  [ 82  95 109]\n",
      "  ...\n",
      "  [178 197 202]\n",
      "  [185 204 209]\n",
      "  [186 205 210]]\n",
      "\n",
      " [[128 145 158]\n",
      "  [ 66  82  95]\n",
      "  [ 31  44  58]\n",
      "  ...\n",
      "  [181 200 205]\n",
      "  [183 202 207]\n",
      "  [183 202 207]]\n",
      "\n",
      " [[ 91 107 120]\n",
      "  [ 35  51  64]\n",
      "  [ 21  35  47]\n",
      "  ...\n",
      "  [173 191 198]\n",
      "  [175 193 200]\n",
      "  [186 204 211]]\n",
      "\n",
      " ...\n",
      "\n",
      " [[135 156 154]\n",
      "  [128 149 147]\n",
      "  [134 152 151]\n",
      "  ...\n",
      "  [ 29  33  38]\n",
      "  [ 28  33  36]\n",
      "  [ 28  33  36]]\n",
      "\n",
      " [[139 160 158]\n",
      "  [132 153 151]\n",
      "  [137 155 154]\n",
      "  ...\n",
      "  [ 30  33  38]\n",
      "  [ 28  33  36]\n",
      "  [ 28  33  36]]\n",
      "\n",
      " [[137 158 156]\n",
      "  [134 155 153]\n",
      "  [137 155 154]\n",
      "  ...\n",
      "  [ 29  32  36]\n",
      "  [ 28  33  36]\n",
      "  [ 28  33  36]]]\n"
     ]
    }
   ],
   "source": [
    "img = cv2.imread(Image_path)\n",
    "print(img)"
   ]
  },
  {
   "cell_type": "code",
   "execution_count": 80,
   "metadata": {},
   "outputs": [],
   "source": [
    "img_cpy = cv2.cvtColor(img, cv2.COLOR_RGB2BGR)"
   ]
  },
  {
   "cell_type": "code",
   "execution_count": null,
   "metadata": {},
   "outputs": [],
   "source": []
  },
  {
   "cell_type": "code",
   "execution_count": 81,
   "metadata": {},
   "outputs": [
    {
     "data": {
      "text/plain": [
       "array([[[211, 198, 181],\n",
       "        [158, 145, 128],\n",
       "        [109,  95,  82],\n",
       "        ...,\n",
       "        [202, 197, 178],\n",
       "        [209, 204, 185],\n",
       "        [210, 205, 186]],\n",
       "\n",
       "       [[158, 145, 128],\n",
       "        [ 95,  82,  66],\n",
       "        [ 58,  44,  31],\n",
       "        ...,\n",
       "        [205, 200, 181],\n",
       "        [207, 202, 183],\n",
       "        [207, 202, 183]],\n",
       "\n",
       "       [[120, 107,  91],\n",
       "        [ 64,  51,  35],\n",
       "        [ 47,  35,  21],\n",
       "        ...,\n",
       "        [198, 191, 173],\n",
       "        [200, 193, 175],\n",
       "        [211, 204, 186]],\n",
       "\n",
       "       ...,\n",
       "\n",
       "       [[154, 156, 135],\n",
       "        [147, 149, 128],\n",
       "        [151, 152, 134],\n",
       "        ...,\n",
       "        [ 38,  33,  29],\n",
       "        [ 36,  33,  28],\n",
       "        [ 36,  33,  28]],\n",
       "\n",
       "       [[158, 160, 139],\n",
       "        [151, 153, 132],\n",
       "        [154, 155, 137],\n",
       "        ...,\n",
       "        [ 38,  33,  30],\n",
       "        [ 36,  33,  28],\n",
       "        [ 36,  33,  28]],\n",
       "\n",
       "       [[156, 158, 137],\n",
       "        [153, 155, 134],\n",
       "        [154, 155, 137],\n",
       "        ...,\n",
       "        [ 36,  32,  29],\n",
       "        [ 36,  33,  28],\n",
       "        [ 36,  33,  28]]], dtype=uint8)"
      ]
     },
     "execution_count": 81,
     "metadata": {},
     "output_type": "execute_result"
    }
   ],
   "source": [
    "cv2.cvtColor(img, cv2.COLOR_RGB2BGR)"
   ]
  },
  {
   "cell_type": "code",
   "execution_count": 82,
   "metadata": {},
   "outputs": [
    {
     "name": "stdout",
     "output_type": "stream",
     "text": [
      "WARNING:tensorflow:8 out of the last 11 calls to <function Model.make_predict_function.<locals>.predict_function at 0x000001E78C1C8F70> triggered tf.function retracing. Tracing is expensive and the excessive number of tracings could be due to (1) creating @tf.function repeatedly in a loop, (2) passing tensors with different shapes, (3) passing Python objects instead of tensors. For (1), please define your @tf.function outside of the loop. For (2), @tf.function has experimental_relax_shapes=True option that relaxes argument shapes that can avoid unnecessary retracing. For (3), please refer to https://www.tensorflow.org/tutorials/customization/performance#python_or_tensor_args and https://www.tensorflow.org/api_docs/python/tf/function for  more details.\n",
      "WARNING:tensorflow:8 out of the last 11 calls to <function Model.make_predict_function.<locals>.predict_function at 0x000001E78C1C8F70> triggered tf.function retracing. Tracing is expensive and the excessive number of tracings could be due to (1) creating @tf.function repeatedly in a loop, (2) passing tensors with different shapes, (3) passing Python objects instead of tensors. For (1), please define your @tf.function outside of the loop. For (2), @tf.function has experimental_relax_shapes=True option that relaxes argument shapes that can avoid unnecessary retracing. For (3), please refer to https://www.tensorflow.org/tutorials/customization/performance#python_or_tensor_args and https://www.tensorflow.org/api_docs/python/tf/function for  more details.\n",
      "WARNING:tensorflow:8 out of the last 11 calls to <function Model.make_predict_function.<locals>.predict_function at 0x000001E78C1C8F70> triggered tf.function retracing. Tracing is expensive and the excessive number of tracings could be due to (1) creating @tf.function repeatedly in a loop, (2) passing tensors with different shapes, (3) passing Python objects instead of tensors. For (1), please define your @tf.function outside of the loop. For (2), @tf.function has experimental_relax_shapes=True option that relaxes argument shapes that can avoid unnecessary retracing. For (3), please refer to https://www.tensorflow.org/tutorials/customization/performance#python_or_tensor_args and https://www.tensorflow.org/api_docs/python/tf/function for  more details.\n",
      "WARNING:tensorflow:7 out of the last 13 calls to <function Model.make_predict_function.<locals>.predict_function at 0x000001E78BE53550> triggered tf.function retracing. Tracing is expensive and the excessive number of tracings could be due to (1) creating @tf.function repeatedly in a loop, (2) passing tensors with different shapes, (3) passing Python objects instead of tensors. For (1), please define your @tf.function outside of the loop. For (2), @tf.function has experimental_relax_shapes=True option that relaxes argument shapes that can avoid unnecessary retracing. For (3), please refer to https://www.tensorflow.org/tutorials/customization/performance#python_or_tensor_args and https://www.tensorflow.org/api_docs/python/tf/function for  more details.\n",
      "WARNING:tensorflow:8 out of the last 14 calls to <function Model.make_predict_function.<locals>.predict_function at 0x000001E78BE53C10> triggered tf.function retracing. Tracing is expensive and the excessive number of tracings could be due to (1) creating @tf.function repeatedly in a loop, (2) passing tensors with different shapes, (3) passing Python objects instead of tensors. For (1), please define your @tf.function outside of the loop. For (2), @tf.function has experimental_relax_shapes=True option that relaxes argument shapes that can avoid unnecessary retracing. For (3), please refer to https://www.tensorflow.org/tutorials/customization/performance#python_or_tensor_args and https://www.tensorflow.org/api_docs/python/tf/function for  more details.\n"
     ]
    }
   ],
   "source": [
    "detections = detector.detect_faces(img_cpy)"
   ]
  },
  {
   "cell_type": "code",
   "execution_count": 83,
   "metadata": {},
   "outputs": [
    {
     "data": {
      "text/plain": [
       "[{'box': [0, 6, 110, 139],\n",
       "  'confidence': 0.9988126754760742,\n",
       "  'keypoints': {'left_eye': (31, 63),\n",
       "   'right_eye': (83, 58),\n",
       "   'nose': (59, 88),\n",
       "   'mouth_left': (44, 119),\n",
       "   'mouth_right': (84, 115)}}]"
      ]
     },
     "execution_count": 83,
     "metadata": {},
     "output_type": "execute_result"
    }
   ],
   "source": [
    "detections"
   ]
  },
  {
   "cell_type": "code",
   "execution_count": null,
   "metadata": {},
   "outputs": [],
   "source": []
  },
  {
   "cell_type": "code",
   "execution_count": 84,
   "metadata": {},
   "outputs": [
    {
     "data": {
      "text/plain": [
       "array([[[211, 198, 181],\n",
       "        [158, 145, 128],\n",
       "        [109,  95,  82],\n",
       "        ...,\n",
       "        [202, 197, 178],\n",
       "        [209, 204, 185],\n",
       "        [210, 205, 186]],\n",
       "\n",
       "       [[158, 145, 128],\n",
       "        [ 95,  82,  66],\n",
       "        [ 58,  44,  31],\n",
       "        ...,\n",
       "        [205, 200, 181],\n",
       "        [207, 202, 183],\n",
       "        [207, 202, 183]],\n",
       "\n",
       "       [[120, 107,  91],\n",
       "        [ 64,  51,  35],\n",
       "        [ 47,  35,  21],\n",
       "        ...,\n",
       "        [198, 191, 173],\n",
       "        [200, 193, 175],\n",
       "        [211, 204, 186]],\n",
       "\n",
       "       ...,\n",
       "\n",
       "       [[154, 156, 135],\n",
       "        [147, 149, 128],\n",
       "        [151, 152, 134],\n",
       "        ...,\n",
       "        [ 38,  33,  29],\n",
       "        [ 36,  33,  28],\n",
       "        [ 36,  33,  28]],\n",
       "\n",
       "       [[158, 160, 139],\n",
       "        [151, 153, 132],\n",
       "        [154, 155, 137],\n",
       "        ...,\n",
       "        [ 38,  33,  30],\n",
       "        [ 36,  33,  28],\n",
       "        [ 36,  33,  28]],\n",
       "\n",
       "       [[156, 158, 137],\n",
       "        [153, 155, 134],\n",
       "        [154, 155, 137],\n",
       "        ...,\n",
       "        [ 36,  32,  29],\n",
       "        [ 36,  33,  28],\n",
       "        [ 36,  33,  28]]], dtype=uint8)"
      ]
     },
     "execution_count": 84,
     "metadata": {},
     "output_type": "execute_result"
    }
   ],
   "source": [
    "confidence = 0\n",
    "for det in detections:\n",
    "    if(det['confidence'] > confidence):\n",
    "        keypoints = det['keypoints']\n",
    "#cv2.circle(img_cpy, keypoints['left_eye'], 2, (255, 0, 0) , 2)\n",
    "#cv2.circle(img_cpy, keypoints['right_eye'], 2, (255, 0, 0) , 2)\n",
    "cv2.line(img_cpy,keypoints['right_eye'], keypoints['left_eye'],(67,67,67),2)"
   ]
  },
  {
   "cell_type": "code",
   "execution_count": 85,
   "metadata": {},
   "outputs": [
    {
     "data": {
      "text/plain": [
       "-1"
      ]
     },
     "execution_count": 85,
     "metadata": {},
     "output_type": "execute_result"
    }
   ],
   "source": [
    "cv2.imshow(\"Image\",img_cpy)\n",
    "cv2.waitKey(0)"
   ]
  },
  {
   "cell_type": "code",
   "execution_count": 86,
   "metadata": {},
   "outputs": [],
   "source": [
    "left_eye = keypoints['left_eye']\n",
    "right_eye = keypoints['right_eye']"
   ]
  },
  {
   "cell_type": "code",
   "execution_count": 120,
   "metadata": {},
   "outputs": [],
   "source": [
    "if left_eye[1] < right_eye[1]:\n",
    "    direction = 1\n",
    "    third_point = (left_eye[0], right_eye[1])\n",
    "else:\n",
    "    direction = -1\n",
    "    third_point = (right_eye[0], left_eye[1])"
   ]
  },
  {
   "cell_type": "code",
   "execution_count": 121,
   "metadata": {},
   "outputs": [
    {
     "data": {
      "text/plain": [
       "array([[[211, 198, 181],\n",
       "        [158, 145, 128],\n",
       "        [109,  95,  82],\n",
       "        ...,\n",
       "        [202, 197, 178],\n",
       "        [209, 204, 185],\n",
       "        [210, 205, 186]],\n",
       "\n",
       "       [[158, 145, 128],\n",
       "        [ 95,  82,  66],\n",
       "        [ 58,  44,  31],\n",
       "        ...,\n",
       "        [205, 200, 181],\n",
       "        [207, 202, 183],\n",
       "        [207, 202, 183]],\n",
       "\n",
       "       [[120, 107,  91],\n",
       "        [ 64,  51,  35],\n",
       "        [ 47,  35,  21],\n",
       "        ...,\n",
       "        [198, 191, 173],\n",
       "        [200, 193, 175],\n",
       "        [211, 204, 186]],\n",
       "\n",
       "       ...,\n",
       "\n",
       "       [[154, 156, 135],\n",
       "        [147, 149, 128],\n",
       "        [151, 152, 134],\n",
       "        ...,\n",
       "        [ 38,  33,  29],\n",
       "        [ 36,  33,  28],\n",
       "        [ 36,  33,  28]],\n",
       "\n",
       "       [[158, 160, 139],\n",
       "        [151, 153, 132],\n",
       "        [154, 155, 137],\n",
       "        ...,\n",
       "        [ 38,  33,  30],\n",
       "        [ 36,  33,  28],\n",
       "        [ 36,  33,  28]],\n",
       "\n",
       "       [[156, 158, 137],\n",
       "        [153, 155, 134],\n",
       "        [154, 155, 137],\n",
       "        ...,\n",
       "        [ 36,  32,  29],\n",
       "        [ 36,  33,  28],\n",
       "        [ 36,  33,  28]]], dtype=uint8)"
      ]
     },
     "execution_count": 121,
     "metadata": {},
     "output_type": "execute_result"
    }
   ],
   "source": [
    "cv2.circle(img_cpy, third_point, 2, (255, 0, 0) , 2)"
   ]
  },
  {
   "cell_type": "code",
   "execution_count": 122,
   "metadata": {},
   "outputs": [
    {
     "data": {
      "text/plain": [
       "-1"
      ]
     },
     "execution_count": 122,
     "metadata": {},
     "output_type": "execute_result"
    }
   ],
   "source": [
    "cv2.imshow(\"Image\",img_cpy)\n",
    "cv2.waitKey(0)"
   ]
  },
  {
   "cell_type": "code",
   "execution_count": 123,
   "metadata": {},
   "outputs": [
    {
     "name": "stdout",
     "output_type": "stream",
     "text": [
      "-1\n"
     ]
    }
   ],
   "source": [
    "print(direction)"
   ]
  },
  {
   "cell_type": "code",
   "execution_count": 124,
   "metadata": {},
   "outputs": [
    {
     "data": {
      "text/plain": [
       "array([[[211, 198, 181],\n",
       "        [158, 145, 128],\n",
       "        [109,  95,  82],\n",
       "        ...,\n",
       "        [202, 197, 178],\n",
       "        [209, 204, 185],\n",
       "        [210, 205, 186]],\n",
       "\n",
       "       [[158, 145, 128],\n",
       "        [ 95,  82,  66],\n",
       "        [ 58,  44,  31],\n",
       "        ...,\n",
       "        [205, 200, 181],\n",
       "        [207, 202, 183],\n",
       "        [207, 202, 183]],\n",
       "\n",
       "       [[120, 107,  91],\n",
       "        [ 64,  51,  35],\n",
       "        [ 47,  35,  21],\n",
       "        ...,\n",
       "        [198, 191, 173],\n",
       "        [200, 193, 175],\n",
       "        [211, 204, 186]],\n",
       "\n",
       "       ...,\n",
       "\n",
       "       [[154, 156, 135],\n",
       "        [147, 149, 128],\n",
       "        [151, 152, 134],\n",
       "        ...,\n",
       "        [ 38,  33,  29],\n",
       "        [ 36,  33,  28],\n",
       "        [ 36,  33,  28]],\n",
       "\n",
       "       [[158, 160, 139],\n",
       "        [151, 153, 132],\n",
       "        [154, 155, 137],\n",
       "        ...,\n",
       "        [ 38,  33,  30],\n",
       "        [ 36,  33,  28],\n",
       "        [ 36,  33,  28]],\n",
       "\n",
       "       [[156, 158, 137],\n",
       "        [153, 155, 134],\n",
       "        [154, 155, 137],\n",
       "        ...,\n",
       "        [ 36,  32,  29],\n",
       "        [ 36,  33,  28],\n",
       "        [ 36,  33,  28]]], dtype=uint8)"
      ]
     },
     "execution_count": 124,
     "metadata": {},
     "output_type": "execute_result"
    }
   ],
   "source": [
    "cv2.line(img_cpy, left_eye, third_point, (67, 67, 67), 2)\n",
    "cv2.line(img_cpy, right_eye, third_point, (67, 67, 67), 2)"
   ]
  },
  {
   "cell_type": "code",
   "execution_count": 125,
   "metadata": {},
   "outputs": [],
   "source": [
    "def euclidean_distance(a, b):\n",
    "    x1 = a[0]; y1 = a[1]\n",
    "    x2 = b[0]; y2 = b[1]\n",
    "    return math.sqrt(((x2 - x1) * (x2 - x1)) + ((y2 - y1) * (y2 - y1)))"
   ]
  },
  {
   "cell_type": "code",
   "execution_count": 126,
   "metadata": {},
   "outputs": [
    {
     "name": "stdout",
     "output_type": "stream",
     "text": [
      "52.0 5.0 52.23983154643591\n"
     ]
    }
   ],
   "source": [
    "a = euclidean_distance(left_eye, third_point)\n",
    "b = euclidean_distance(right_eye, third_point)\n",
    "c = euclidean_distance(left_eye, right_eye)\n",
    "print(a, b, c)"
   ]
  },
  {
   "cell_type": "code",
   "execution_count": 141,
   "metadata": {},
   "outputs": [
    {
     "name": "stdout",
     "output_type": "stream",
     "text": [
      "0.9954090291002811\n"
     ]
    }
   ],
   "source": [
    "cosine_rule = (c*c + a*a - b*b)/(2*a*c)\n",
    "print(cosine_rule)"
   ]
  },
  {
   "cell_type": "code",
   "execution_count": 142,
   "metadata": {},
   "outputs": [],
   "source": [
    "angle_radian = np.arccos(cosine_rule)"
   ]
  },
  {
   "cell_type": "code",
   "execution_count": 143,
   "metadata": {},
   "outputs": [
    {
     "name": "stdout",
     "output_type": "stream",
     "text": [
      "0.09585914711001343\n"
     ]
    }
   ],
   "source": [
    "print(angle_radian)"
   ]
  },
  {
   "cell_type": "code",
   "execution_count": 144,
   "metadata": {},
   "outputs": [],
   "source": [
    "final_angle = angle_radian * 180/math.pi"
   ]
  },
  {
   "cell_type": "code",
   "execution_count": 145,
   "metadata": {},
   "outputs": [],
   "source": [
    "if(direction == 1):\n",
    "    final_angle = 90 - final_angle"
   ]
  },
  {
   "cell_type": "code",
   "execution_count": 146,
   "metadata": {},
   "outputs": [
    {
     "data": {
      "text/plain": [
       "5.492324557127452"
      ]
     },
     "execution_count": 146,
     "metadata": {},
     "output_type": "execute_result"
    }
   ],
   "source": [
    "final_angle"
   ]
  },
  {
   "cell_type": "code",
   "execution_count": 147,
   "metadata": {},
   "outputs": [],
   "source": [
    "from PIL import Image\n",
    "new_img = Image.fromarray(img_cpy)\n",
    "new_img = np.array(new_img.rotate(direction * final_angle))"
   ]
  },
  {
   "cell_type": "code",
   "execution_count": 148,
   "metadata": {},
   "outputs": [
    {
     "data": {
      "text/plain": [
       "-1"
      ]
     },
     "execution_count": 148,
     "metadata": {},
     "output_type": "execute_result"
    }
   ],
   "source": [
    "cv2.imshow('ff', new_img)\n",
    "cv2.waitKey(0)"
   ]
  },
  {
   "cell_type": "code",
   "execution_count": null,
   "metadata": {},
   "outputs": [],
   "source": []
  }
 ],
 "metadata": {
  "kernelspec": {
   "display_name": "Python 3",
   "language": "python",
   "name": "python3"
  },
  "language_info": {
   "codemirror_mode": {
    "name": "ipython",
    "version": 3
   },
   "file_extension": ".py",
   "mimetype": "text/x-python",
   "name": "python",
   "nbconvert_exporter": "python",
   "pygments_lexer": "ipython3",
   "version": "3.8.5"
  }
 },
 "nbformat": 4,
 "nbformat_minor": 4
}
