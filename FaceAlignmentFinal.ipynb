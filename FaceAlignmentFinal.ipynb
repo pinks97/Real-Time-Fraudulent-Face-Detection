{
 "cells": [
  {
   "cell_type": "code",
   "execution_count": 2,
   "metadata": {},
   "outputs": [],
   "source": [
    "import matplotlib.pyplot as plt\n",
    "import cv2\n",
    "from mtcnn import MTCNN\n",
    "import numpy as np\n",
    "import math\n",
    "import os\n",
    "from PIL import Image\n"
   ]
  },
  {
   "cell_type": "code",
   "execution_count": 3,
   "metadata": {},
   "outputs": [],
   "source": [
    "folder_path = 'C://Users//PriyankaPrabhu//FaceDetection//ImposterRawTestFinal//'"
   ]
  },
  {
   "cell_type": "code",
   "execution_count": 4,
   "metadata": {},
   "outputs": [],
   "source": [
    "detector = MTCNN()"
   ]
  },
  {
   "cell_type": "code",
   "execution_count": 5,
   "metadata": {},
   "outputs": [],
   "source": [
    "def euclidean_distance(a, b):\n",
    "    x1 = a[0]; y1 = a[1]\n",
    "    x2 = b[0]; y2 = b[1]\n",
    "    return math.sqrt(((x2 - x1) * (x2 - x1)) + ((y2 - y1) * (y2 - y1)))"
   ]
  },
  {
   "cell_type": "code",
   "execution_count": 6,
   "metadata": {},
   "outputs": [
    {
     "name": "stdout",
     "output_type": "stream",
     "text": [
      "3\n"
     ]
    }
   ],
   "source": [
    "print(3)"
   ]
  },
  {
   "cell_type": "code",
   "execution_count": 2,
   "metadata": {},
   "outputs": [],
   "source": [
    "os.mkdir('FaceAlignmentfolder')"
   ]
  },
  {
   "cell_type": "code",
   "execution_count": null,
   "metadata": {},
   "outputs": [
    {
     "name": "stdout",
     "output_type": "stream",
     "text": [
      "WARNING:tensorflow:5 out of the last 9 calls to <function Model.make_predict_function.<locals>.predict_function at 0x000001A44983CAF0> triggered tf.function retracing. Tracing is expensive and the excessive number of tracings could be due to (1) creating @tf.function repeatedly in a loop, (2) passing tensors with different shapes, (3) passing Python objects instead of tensors. For (1), please define your @tf.function outside of the loop. For (2), @tf.function has experimental_relax_shapes=True option that relaxes argument shapes that can avoid unnecessary retracing. For (3), please refer to https://www.tensorflow.org/tutorials/customization/performance#python_or_tensor_args and https://www.tensorflow.org/api_docs/python/tf/function for  more details.\n",
      "4.600095666263314\n",
      "4.600095666263314\n"
     ]
    }
   ],
   "source": [
    "for image in os.listdir(folder_path):\n",
    "    #print(image)\n",
    "    absolute_path = folder_path + image\n",
    "    img = cv2.imread(absolute_path)\n",
    "    img_cpy = cv2.cvtColor(img, cv2.COLOR_RGB2BGR)\n",
    "    detections = detector.detect_faces(img_cpy)\n",
    "    confidence = 0\n",
    "    counter = 0\n",
    "    for det in detections:\n",
    "        if(det['confidence'] > confidence):\n",
    "            keypoints = det['keypoints']\n",
    "    #cv2.line(img_cpy,keypoints['right_eye'], keypoints['left_eye'],(67,67,67),2)\n",
    "    left_eye = keypoints['left_eye']\n",
    "    right_eye = keypoints['right_eye']\n",
    "    if left_eye[1] < right_eye[1]:\n",
    "        direction = 1\n",
    "        third_point = (left_eye[0], right_eye[1])\n",
    "    else:\n",
    "        direction = -1\n",
    "        third_point = (right_eye[0], left_eye[1])\n",
    "    a = euclidean_distance(left_eye, third_point)\n",
    "    b = euclidean_distance(right_eye, third_point)\n",
    "    c = euclidean_distance(left_eye, right_eye)\n",
    "    cosine_rule = (c*c + a*a - b*b)/(2*a*c)\n",
    "    angle_radian = np.arccos(cosine_rule)\n",
    "    final_angle = angle_radian * 180/math.pi\n",
    "    if(direction == 1):\n",
    "        final_angle = 90 - final_angle\n",
    "    print(final_angle)\n",
    "    new_img = Image.fromarray(img_cpy)\n",
    "    new_img = np.array(new_img.rotate(direction * final_angle))\n",
    "    cv2.imshow('face', new_img)\n",
    "    cv2.waitKey(0)\n",
    "    cv2.imwrite(os.path.join('FaceAlignmentfolder\\\\' ,'face'+str(counter)+'.jpg'),new_img)\n",
    "    counter = counter + 1\n"
   ]
  },
  {
   "cell_type": "code",
   "execution_count": null,
   "metadata": {},
   "outputs": [],
   "source": []
  }
 ],
 "metadata": {
  "kernelspec": {
   "display_name": "Python 3",
   "language": "python",
   "name": "python3"
  },
  "language_info": {
   "codemirror_mode": {
    "name": "ipython",
    "version": 3
   },
   "file_extension": ".py",
   "mimetype": "text/x-python",
   "name": "python",
   "nbconvert_exporter": "python",
   "pygments_lexer": "ipython3",
   "version": "3.8.5"
  }
 },
 "nbformat": 4,
 "nbformat_minor": 4
}
